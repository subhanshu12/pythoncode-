{
 "cells": [
  {
   "cell_type": "code",
   "execution_count": 4,
   "id": "f00db923-f051-4a9e-819e-a782e8eb9c8b",
   "metadata": {},
   "outputs": [],
   "source": [
    "d4 = {234 : \"subhanshu tripathi\" , \"email\" : \"tripathi@gamail.com\" , \"true\" : \"1234\"}"
   ]
  },
  {
   "cell_type": "code",
   "execution_count": null,
   "id": "8878cf72-b407-4e0e-b3f9-d778829fafd7",
   "metadata": {},
   "outputs": [],
   "source": [
    "# key is alway be a unique "
   ]
  },
  {
   "cell_type": "code",
   "execution_count": 5,
   "id": "6a5292e9-f211-4798-a700-9995653f5efd",
   "metadata": {},
   "outputs": [
    {
     "data": {
      "text/plain": [
       "'subhanshu tripathi'"
      ]
     },
     "execution_count": 5,
     "metadata": {},
     "output_type": "execute_result"
    }
   ],
   "source": [
    "d4[234]\n"
   ]
  },
  {
   "cell_type": "code",
   "execution_count": 6,
   "id": "972240f1-a8d7-4a1d-9e41-a7206e6366a6",
   "metadata": {},
   "outputs": [],
   "source": [
    "d5 = {\"company\" : \"pwskills\" , \"course\" : [\"web deveplaopemnt\" , \"master data science\" , \"java DSA\" ]}"
   ]
  },
  {
   "cell_type": "code",
   "execution_count": 9,
   "id": "70656d4b-5406-4b7f-922f-123bbcdb6394",
   "metadata": {},
   "outputs": [
    {
     "data": {
      "text/plain": [
       "['web deveplaopemnt', 'master data science', 'java DSA']"
      ]
     },
     "execution_count": 9,
     "metadata": {},
     "output_type": "execute_result"
    }
   ],
   "source": [
    "d5['course']"
   ]
  },
  {
   "cell_type": "code",
   "execution_count": 10,
   "id": "fb040887-7a30-4662-be39-a07b4531c2b3",
   "metadata": {},
   "outputs": [
    {
     "data": {
      "text/plain": [
       "'java DSA'"
      ]
     },
     "execution_count": 10,
     "metadata": {},
     "output_type": "execute_result"
    }
   ],
   "source": [
    "d5['course'][2]"
   ]
  },
  {
   "cell_type": "code",
   "execution_count": 11,
   "id": "cec53f76-9e23-4fa5-a864-6bb26efd19d4",
   "metadata": {},
   "outputs": [],
   "source": [
    "d6 = {\"number\" : [2,34,3,34,34] , \"assignment\" : (1,2,3,4,5,6,7,8,9), \"launch_date\" : {12, 114 , 28} , \"class_time\" : {\"web_dev\": 8,\"data_science\": 8, \"java with dsa and system desing \": 7}}"
   ]
  },
  {
   "cell_type": "code",
   "execution_count": 12,
   "id": "4c8d5ee4-9623-460b-86b3-7fd6482adaee",
   "metadata": {},
   "outputs": [
    {
     "data": {
      "text/plain": [
       "{'number': [2, 34, 3, 34, 34],\n",
       " 'assignment': (1, 2, 3, 4, 5, 6, 7, 8, 9),\n",
       " 'launch_date': {12, 28, 114},\n",
       " 'class_time': {'web_dev': 8,\n",
       "  'data_science': 8,\n",
       "  'java with dsa and system desing ': 7}}"
      ]
     },
     "execution_count": 12,
     "metadata": {},
     "output_type": "execute_result"
    }
   ],
   "source": [
    "d6"
   ]
  },
  {
   "cell_type": "code",
   "execution_count": 13,
   "id": "81896d4b-1f9f-4d62-a444-ea6142a4744e",
   "metadata": {},
   "outputs": [],
   "source": [
    "del d6['number']"
   ]
  },
  {
   "cell_type": "code",
   "execution_count": 14,
   "id": "90b37d4b-08fa-4c05-990a-1d2391c10b44",
   "metadata": {},
   "outputs": [
    {
     "data": {
      "text/plain": [
       "{'assignment': (1, 2, 3, 4, 5, 6, 7, 8, 9),\n",
       " 'launch_date': {12, 28, 114},\n",
       " 'class_time': {'web_dev': 8,\n",
       "  'data_science': 8,\n",
       "  'java with dsa and system desing ': 7}}"
      ]
     },
     "execution_count": 14,
     "metadata": {},
     "output_type": "execute_result"
    }
   ],
   "source": [
    "d6\n"
   ]
  },
  {
   "cell_type": "code",
   "execution_count": 15,
   "id": "0b962e9d-10a9-4e9b-bc12-36bb57b5e966",
   "metadata": {},
   "outputs": [
    {
     "data": {
      "text/plain": [
       "dict_keys(['assignment', 'launch_date', 'class_time'])"
      ]
     },
     "execution_count": 15,
     "metadata": {},
     "output_type": "execute_result"
    }
   ],
   "source": [
    "d6.keys()"
   ]
  },
  {
   "cell_type": "code",
   "execution_count": null,
   "id": "cac83928-e8f3-41c6-8bb0-09a10b598b57",
   "metadata": {},
   "outputs": [],
   "source": [
    "list(d6.keys())"
   ]
  },
  {
   "cell_type": "code",
   "execution_count": 16,
   "id": "9d55d1cf-fb08-4453-aec9-c8414493b1af",
   "metadata": {},
   "outputs": [
    {
     "data": {
      "text/plain": [
       "['assignment', 'launch_date', 'class_time']"
      ]
     },
     "execution_count": 16,
     "metadata": {},
     "output_type": "execute_result"
    }
   ],
   "source": [
    "list(d6.keys())"
   ]
  },
  {
   "cell_type": "code",
   "execution_count": 17,
   "id": "c53e16e7-846d-43d6-a2cc-8a738405074e",
   "metadata": {},
   "outputs": [
    {
     "data": {
      "text/plain": [
       "[('assignment', (1, 2, 3, 4, 5, 6, 7, 8, 9)),\n",
       " ('launch_date', {12, 28, 114}),\n",
       " ('class_time',\n",
       "  {'web_dev': 8, 'data_science': 8, 'java with dsa and system desing ': 7})]"
      ]
     },
     "execution_count": 17,
     "metadata": {},
     "output_type": "execute_result"
    }
   ],
   "source": [
    "list(d6.items())"
   ]
  },
  {
   "cell_type": "code",
   "execution_count": null,
   "id": "5a2604b1-1ef6-4899-9f4e-3a1731daca3a",
   "metadata": {},
   "outputs": [],
   "source": [
    "d6.pop() # if you give a data than it's work ortherwise it will not work"
   ]
  },
  {
   "cell_type": "code",
   "execution_count": 22,
   "id": "e59c97c0-d5f9-4f07-866b-77a0bdd88a18",
   "metadata": {},
   "outputs": [
    {
     "name": "stdin",
     "output_type": "stream",
     "text": [
      " 40\n"
     ]
    },
    {
     "name": "stdout",
     "output_type": "stream",
     "text": [
      "you will be a part of A5 batch \n"
     ]
    }
   ],
   "source": [
    "marks = int(input())\n",
    "if marks >= 80 :\n",
    "    print(\"you will be a part of A0 batch\")\n",
    "elif marks >= 60 and marks <= 80 :\n",
    "    print(\"you will be a part of A1 batch\")\n",
    "elif marks >= 40 and marks <= 60 :\n",
    "    print(\"you will be a part of A2 batch \")\n",
    "else:\n",
    "    print (\"you will be a part of A3 batch\")"
   ]
  },
  {
   "cell_type": "code",
   "execution_count": 21,
   "id": "c8152820-f141-4561-aa7a-9eb3d2ed75c2",
   "metadata": {},
   "outputs": [
    {
     "data": {
      "text/plain": [
       "False"
      ]
     },
     "execution_count": 21,
     "metadata": {},
     "output_type": "execute_result"
    }
   ],
   "source": [
    "10 >= 80\n"
   ]
  },
  {
   "cell_type": "code",
   "execution_count": null,
   "id": "6b3836cc-9c8a-456f-bb26-fca95ab51fc2",
   "metadata": {},
   "outputs": [],
   "source": [
    "marks = int(input())"
   ]
  },
  {
   "cell_type": "code",
   "execution_count": 23,
   "id": "b268d64f-c271-40ac-b023-1c3f36a518d5",
   "metadata": {},
   "outputs": [
    {
     "name": "stdin",
     "output_type": "stream",
     "text": [
      "enter price  500\n"
     ]
    },
    {
     "name": "stdout",
     "output_type": "stream",
     "text": [
      "i will purchase\n"
     ]
    }
   ],
   "source": [
    "price = int(input(\"enter price \"))\n",
    "if price > 1000:\n",
    "    print(\"i will not purchase\")\n",
    "    if price > 5000:\n",
    "        print (\"this is too much\")\n",
    "    elif price < 2000:\n",
    "        print(\"it's ok\")\n",
    "elif price <  1000:\n",
    "    print(\"i will purchase\")\n",
    "else :\n",
    "    print(\"not interested\")"
   ]
  },
  {
   "cell_type": "code",
   "execution_count": 25,
   "id": "52c47cc5-a4fc-4635-a34a-79ff86bf255e",
   "metadata": {},
   "outputs": [],
   "source": [
    "l = [ 1,2,3,4,5,6,7,8,9]"
   ]
  },
  {
   "cell_type": "code",
   "execution_count": 26,
   "id": "6b428408-fb1b-4ed8-af33-b55a70c46c0b",
   "metadata": {},
   "outputs": [
    {
     "data": {
      "text/plain": [
       "2"
      ]
     },
     "execution_count": 26,
     "metadata": {},
     "output_type": "execute_result"
    }
   ],
   "source": [
    "l[0] + 1"
   ]
  },
  {
   "cell_type": "code",
   "execution_count": null,
   "id": "2bc8b2e7-be3d-49ad-8419-21742c9ca93a",
   "metadata": {},
   "outputs": [],
   "source": [
    "l1 = []"
   ]
  },
  {
   "cell_type": "code",
   "execution_count": 29,
   "id": "d7a929d8-ab1c-43ae-a1bc-685d3913be74",
   "metadata": {},
   "outputs": [
    {
     "ename": "NameError",
     "evalue": "name 'l1' is not defined",
     "output_type": "error",
     "traceback": [
      "\u001b[0;31m---------------------------------------------------------------------------\u001b[0m",
      "\u001b[0;31mNameError\u001b[0m                                 Traceback (most recent call last)",
      "Cell \u001b[0;32mIn[29], line 1\u001b[0m\n\u001b[0;32m----> 1\u001b[0m \u001b[43ml1\u001b[49m\u001b[38;5;241m.\u001b[39mappend(l[\u001b[38;5;241m0\u001b[39m]  \u001b[38;5;241m+\u001b[39m\u001b[38;5;241m1\u001b[39m)\n",
      "\u001b[0;31mNameError\u001b[0m: name 'l1' is not defined"
     ]
    }
   ],
   "source": [
    "l1.append(l[0]  +1)"
   ]
  },
  {
   "cell_type": "code",
   "execution_count": 33,
   "id": "db8222c8-71b4-4622-a67c-a031cd9e49ca",
   "metadata": {},
   "outputs": [
    {
     "name": "stdout",
     "output_type": "stream",
     "text": [
      "2\n",
      "3\n",
      "4\n",
      "5\n",
      "6\n",
      "7\n",
      "8\n",
      "9\n",
      "10\n"
     ]
    }
   ],
   "source": [
    "l1 = []\n",
    "for i in l:\n",
    "    print(i+1)\n",
    "    l1.append(i+1)"
   ]
  },
  {
   "cell_type": "code",
   "execution_count": 34,
   "id": "23d1ddff-0915-47f4-9be9-e28968e27d1e",
   "metadata": {},
   "outputs": [
    {
     "data": {
      "text/plain": [
       "[2, 3, 4, 5, 6, 7, 8, 9, 10]"
      ]
     },
     "execution_count": 34,
     "metadata": {},
     "output_type": "execute_result"
    }
   ],
   "source": [
    "l1"
   ]
  },
  {
   "cell_type": "code",
   "execution_count": 37,
   "id": "0ebe11d6-35b2-4bbb-a967-5df5f8f34b65",
   "metadata": {},
   "outputs": [],
   "source": [
    "l = [\"suhanshu\" , \"kumar\" , \"career_boomers\" , \"course\"]"
   ]
  },
  {
   "cell_type": "code",
   "execution_count": 39,
   "id": "c4d84556-b79d-4f07-899f-e9f662c5f44b",
   "metadata": {},
   "outputs": [
    {
     "name": "stdout",
     "output_type": "stream",
     "text": [
      "suhanshu\n",
      "kumar\n",
      "career_boomers\n",
      "course\n"
     ]
    }
   ],
   "source": [
    "l1 = []\n",
    "for i in l :\n",
    "    print(i)\n",
    "    l1.append(i.upper())"
   ]
  },
  {
   "cell_type": "code",
   "execution_count": 40,
   "id": "7b34941b-4c49-4afd-b817-deaea8c4e9bc",
   "metadata": {},
   "outputs": [
    {
     "data": {
      "text/plain": [
       "['SUHANSHU', 'KUMAR', 'CAREER_BOOMERS', 'COURSE']"
      ]
     },
     "execution_count": 40,
     "metadata": {},
     "output_type": "execute_result"
    }
   ],
   "source": [
    "l1"
   ]
  },
  {
   "cell_type": "code",
   "execution_count": 41,
   "id": "faf7f3aa-86a6-4b8a-8b70-f3d00e7729a7",
   "metadata": {},
   "outputs": [],
   "source": [
    "l = [ 1,2,3,4,5,67,8,\"subhanhu\" , \"kumar\" , 2323,2342,2423, \"ffe\"]"
   ]
  },
  {
   "cell_type": "code",
   "execution_count": 42,
   "id": "6e4a32ad-1fc1-4ed7-a87d-87155ec33b9f",
   "metadata": {},
   "outputs": [],
   "source": [
    "l1_num  = []\n",
    "l2_str = []\n",
    "for i in l :\n",
    "    if type(i) == int or type(i) == float :\n",
    "        l1_num.append(i)\n",
    "    else : \n",
    "        l2_str.append(i)\n",
    "    "
   ]
  },
  {
   "cell_type": "code",
   "execution_count": 43,
   "id": "c72a657a-ecdd-4178-95fe-bc2c7ca42bbb",
   "metadata": {},
   "outputs": [
    {
     "data": {
      "text/plain": [
       "[1, 2, 3, 4, 5, 67, 8, 2323, 2342, 2423]"
      ]
     },
     "execution_count": 43,
     "metadata": {},
     "output_type": "execute_result"
    }
   ],
   "source": [
    "l1_num"
   ]
  },
  {
   "cell_type": "code",
   "execution_count": 44,
   "id": "e4f5653b-5488-45bd-af93-c89ba86759dc",
   "metadata": {},
   "outputs": [
    {
     "data": {
      "text/plain": [
       "['subhanhu', 'kumar', 'ffe']"
      ]
     },
     "execution_count": 44,
     "metadata": {},
     "output_type": "execute_result"
    }
   ],
   "source": [
    "l2_str"
   ]
  },
  {
   "cell_type": "code",
   "execution_count": null,
   "id": "e6f8149b-42a9-422f-a640-85522e052af1",
   "metadata": {},
   "outputs": [],
   "source": []
  }
 ],
 "metadata": {
  "kernelspec": {
   "display_name": "Python 3 (ipykernel)",
   "language": "python",
   "name": "python3"
  },
  "language_info": {
   "codemirror_mode": {
    "name": "ipython",
    "version": 3
   },
   "file_extension": ".py",
   "mimetype": "text/x-python",
   "name": "python",
   "nbconvert_exporter": "python",
   "pygments_lexer": "ipython3",
   "version": "3.10.8"
  }
 },
 "nbformat": 4,
 "nbformat_minor": 5
}
